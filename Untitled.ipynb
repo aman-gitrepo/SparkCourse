{
 "cells": [
  {
   "cell_type": "code",
   "execution_count": 6,
   "id": "224f434b-ed96-44ad-9887-a65eae23fae7",
   "metadata": {},
   "outputs": [],
   "source": [
    "from pyspark.sql.functions import udf\n",
    "from pyspark.sql.types import *"
   ]
  },
  {
   "cell_type": "code",
   "execution_count": 7,
   "id": "dc47d36d-f801-4191-9827-a387fa8a96dc",
   "metadata": {},
   "outputs": [],
   "source": [
    "def capitalizeWord(str):\n",
    "   result=\"\"\n",
    "   words = str.split(\" \")\n",
    "   for word in words:\n",
    "      result= result + word[0:1].upper() + word[1:len(x)] + \" \"\n",
    "   return result"
   ]
  },
  {
   "cell_type": "code",
   "execution_count": 8,
   "id": "f93a5ba6-7706-4189-ace9-ec1b357da775",
   "metadata": {},
   "outputs": [],
   "source": [
    "\"\"\" Converting function to UDF \"\"\"\n",
    "capitalizeWordUDF = udf(lambda z: capitalizeWord(z),StringType())"
   ]
  },
  {
   "cell_type": "code",
   "execution_count": null,
   "id": "48809d3c-7219-4b07-89b0-7428829e55bc",
   "metadata": {},
   "outputs": [],
   "source": [
    "df.select(col(\"ID_COLUMN\"), convertUDF(col(\"NAME_COLUMN\")).alias(\"NAME_COLUMN\") ).show(truncate=False)"
   ]
  },
  {
   "cell_type": "code",
   "execution_count": 19,
   "id": "eb231f60-f67a-47aa-ba6e-d39e81302939",
   "metadata": {},
   "outputs": [],
   "source": [
    "data = [('Harry', 20),\n",
    "       ('Ron', 20),\n",
    "       ('Hermoine', 20)]\n",
    "columns = [\"Name\",\"Age\"]\n",
    "df = spark.createDataFrame(data=data, schema = columns)"
   ]
  },
  {
   "cell_type": "code",
   "execution_count": 20,
   "id": "48cf09a2-301a-480e-a0b0-7e0d89be5390",
   "metadata": {},
   "outputs": [
    {
     "data": {
      "text/plain": [
       "DataFrame[Name: string, Age: bigint]"
      ]
     },
     "execution_count": 20,
     "metadata": {},
     "output_type": "execute_result"
    }
   ],
   "source": [
    "df"
   ]
  },
  {
   "cell_type": "code",
   "execution_count": 21,
   "id": "b466781b-4799-4104-a2c2-c3398f923770",
   "metadata": {},
   "outputs": [
    {
     "name": "stdout",
     "output_type": "stream",
     "text": [
      "+--------+---+\n",
      "|Name    |Age|\n",
      "+--------+---+\n",
      "|Harry   |20 |\n",
      "|Ron     |20 |\n",
      "|Hermoine|20 |\n",
      "+--------+---+\n",
      "\n"
     ]
    }
   ],
   "source": [
    "df.show(10,False)"
   ]
  },
  {
   "cell_type": "code",
   "execution_count": null,
   "id": "a2e57f96-a173-4c78-aa20-0c270a1188f2",
   "metadata": {},
   "outputs": [],
   "source": []
  }
 ],
 "metadata": {
  "kernelspec": {
   "display_name": "Python 3 (ipykernel)",
   "language": "python",
   "name": "python3"
  },
  "language_info": {
   "codemirror_mode": {
    "name": "ipython",
    "version": 3
   },
   "file_extension": ".py",
   "mimetype": "text/x-python",
   "name": "python",
   "nbconvert_exporter": "python",
   "pygments_lexer": "ipython3",
   "version": "3.11.3"
  }
 },
 "nbformat": 4,
 "nbformat_minor": 5
}
