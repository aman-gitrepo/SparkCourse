{
 "cells": [
  {
   "cell_type": "code",
   "execution_count": null,
   "id": "1a4a2e80-b709-404d-86d1-df6da491b420",
   "metadata": {},
   "outputs": [],
   "source": [
    "# conf = SparkConf().setMaster(\"local\").setAppName(\"FriendsByAge\")\n",
    "# sc = SparkContext(conf = conf)"
   ]
  },
  {
   "cell_type": "code",
   "execution_count": 2,
   "id": "63b397e7-66bf-4dd0-a540-6daf7493f233",
   "metadata": {
    "tags": []
   },
   "outputs": [
    {
     "name": "stdout",
     "output_type": "stream",
     "text": [
      "1 6110\n",
      "2 11370\n",
      "3 27145\n",
      "4 34174\n",
      "5 21201\n"
     ]
    }
   ],
   "source": [
    "from pyspark import SparkConf, SparkContext\n",
    "import collections\n",
    "\n",
    "lines = sc.textFile(\"ml-100k/u.data\")\n",
    "ratings = lines.map(lambda x: x.split()[2])\n",
    "result = ratings.countByValue()\n",
    "\n",
    "sortedResults = collections.OrderedDict(sorted(result.items()))\n",
    "for key, value in sortedResults.items():\n",
    "    print(\"%s %i\" % (key, value))"
   ]
  },
  {
   "cell_type": "code",
   "execution_count": 10,
   "id": "d10e2b7d-c206-4862-84b8-be2504e18620",
   "metadata": {},
   "outputs": [
    {
     "name": "stdout",
     "output_type": "stream",
     "text": [
      "(26, 242.05882352941177)\n",
      "(40, 250.8235294117647)\n",
      "(68, 269.6)\n",
      "(54, 278.0769230769231)\n",
      "(38, 193.53333333333333)\n",
      "(56, 306.6666666666667)\n",
      "(36, 246.6)\n",
      "(22, 206.42857142857142)\n",
      "(60, 202.71428571428572)\n",
      "(30, 235.8181818181818)\n",
      "(42, 303.5)\n",
      "(48, 281.4)\n",
      "(50, 254.6)\n",
      "(32, 207.9090909090909)\n",
      "(58, 116.54545454545455)\n",
      "(64, 281.3333333333333)\n",
      "(52, 340.6363636363636)\n",
      "(24, 233.8)\n",
      "(20, 165.0)\n",
      "(62, 220.76923076923077)\n",
      "(44, 282.1666666666667)\n",
      "(28, 209.1)\n",
      "(66, 276.44444444444446)\n",
      "(46, 223.69230769230768)\n",
      "(18, 343.375)\n",
      "(34, 245.5)\n",
      "(33, 325.3333333333333)\n",
      "(55, 295.53846153846155)\n",
      "(59, 220.0)\n",
      "(37, 249.33333333333334)\n",
      "(27, 228.125)\n",
      "(53, 222.85714285714286)\n",
      "(57, 258.8333333333333)\n",
      "(43, 230.57142857142858)\n",
      "(35, 211.625)\n",
      "(45, 309.53846153846155)\n",
      "(67, 214.625)\n",
      "(19, 213.27272727272728)\n",
      "(51, 302.14285714285717)\n",
      "(25, 197.45454545454547)\n",
      "(21, 350.875)\n",
      "(49, 184.66666666666666)\n",
      "(39, 169.28571428571428)\n",
      "(31, 267.25)\n",
      "(41, 268.55555555555554)\n",
      "(69, 235.2)\n",
      "(65, 298.2)\n",
      "(61, 256.22222222222223)\n",
      "(29, 215.91666666666666)\n",
      "(47, 233.22222222222223)\n",
      "(63, 384.0)\n",
      "(23, 246.3)\n"
     ]
    }
   ],
   "source": [
    "from pyspark import SparkConf, SparkContext\n",
    "\n",
    "def parseLine(line):\n",
    "    fields = line.split(',')\n",
    "    age = int(fields[2])\n",
    "    numFriends = int(fields[3])\n",
    "    return (age, numFriends)\n",
    "\n",
    "lines = sc.textFile(\"Data/fakefriends.csv\")\n",
    "rdd = lines.map(parseLine)\n",
    "totalsByAge = rdd.mapValues(lambda x: (x, 1)).reduceByKey(lambda x, y: (x[0] + y[0], x[1] + y[1]))\n",
    "averagesByAge = totalsByAge.mapValues(lambda x: x[0] / x[1])\n",
    "results = averagesByAge.collect()\n",
    "for result in results:\n",
    "    print(result)"
   ]
  },
  {
   "cell_type": "code",
   "execution_count": null,
   "id": "7c5c8713-78d9-4072-8650-3dcf36ed4977",
   "metadata": {
    "tags": []
   },
   "outputs": [],
   "source": [
    "h\n"
   ]
  }
 ],
 "metadata": {
  "kernelspec": {
   "display_name": "Python 3 (ipykernel)",
   "language": "python",
   "name": "python3"
  },
  "language_info": {
   "codemirror_mode": {
    "name": "ipython",
    "version": 3
   },
   "file_extension": ".py",
   "mimetype": "text/x-python",
   "name": "python",
   "nbconvert_exporter": "python",
   "pygments_lexer": "ipython3",
   "version": "3.11.3"
  }
 },
 "nbformat": 4,
 "nbformat_minor": 5
}
