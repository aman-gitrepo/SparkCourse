{
 "cells": [
  {
   "cell_type": "code",
   "execution_count": null,
   "id": "1a4a2e80-b709-404d-86d1-df6da491b420",
   "metadata": {},
   "outputs": [],
   "source": [
    "# conf = SparkConf().setMaster(\"local\").setAppName(\"FriendsByAge\")\n",
    "# sc = SparkContext(conf = conf)"
   ]
  },
  {
   "cell_type": "code",
   "execution_count": null,
   "id": "63b397e7-66bf-4dd0-a540-6daf7493f233",
   "metadata": {
    "tags": []
   },
   "outputs": [],
   "source": [
    "from pyspark import SparkConf, SparkContext\n",
    "import collections\n",
    "\n",
    "lines = sc.textFile(\"ml-100k/u.data\")\n",
    "ratings = lines.map(lambda x: x.split()[2])\n",
    "result = ratings.countByValue()\n",
    "\n",
    "sortedResults = collections.OrderedDict(sorted(result.items()))\n",
    "for key, value in sortedResults.items():\n",
    "    print(\"%s %i\" % (key, value))"
   ]
  },
  {
   "cell_type": "code",
   "execution_count": null,
   "id": "d10e2b7d-c206-4862-84b8-be2504e18620",
   "metadata": {},
   "outputs": [],
   "source": [
    "def parseLine(line):\n",
    "    fields = line.split(',')\n",
    "    age = int(fields[2])\n",
    "    numFriends = int(fields[3])\n",
    "    return (age, numFriends)\n",
    "\n",
    "lines = sc.textFile(\"Data/fakefriends.csv\")\n",
    "rdd = lines.map(parseLine)\n",
    "totalsByAge = rdd.mapValues(lambda x: (x, 1)).reduceByKey(lambda x, y: (x[0] + y[0], x[1] + y[1]))\n",
    "averagesByAge = totalsByAge.mapValues(lambda x: x[0] / x[1])\n",
    "results = averagesByAge.collect()\n",
    "for result in results:\n",
    "    print(result)"
   ]
  },
  {
   "cell_type": "code",
   "execution_count": null,
   "id": "7c5c8713-78d9-4072-8650-3dcf36ed4977",
   "metadata": {
    "tags": []
   },
   "outputs": [],
   "source": [
    "# conf = SparkConf().setMaster(\"local\").setAppName(\"MinTemperatures\")\n",
    "# sc = SparkContext(conf = conf)\n",
    "\n",
    "def parseLine(line):\n",
    "    fields = line.split(',')\n",
    "    stationID = fields[0]\n",
    "    entryType = fields[2]\n",
    "    temperature = float(fields[3]) * 0.1 * (9.0 / 5.0) + 32.0\n",
    "    return (stationID, entryType, temperature)\n",
    "\n",
    "lines = sc.textFile(\"Data/1800.csv\")\n",
    "parsedLines = lines.map(parseLine)\n",
    "minTemps = parsedLines.filter(lambda x: \"TMIN\" in x[1])\n",
    "stationTemps = minTemps.map(lambda x: (x[0], x[2]))\n",
    "minTemps = stationTemps.reduceByKey(lambda x, y: min(x,y))\n",
    "results = minTemps.collect();\n",
    "\n",
    "for result in results:\n",
    "    print(result[0] + \"\\t{:.2f}F\".format(result[1]))"
   ]
  },
  {
   "cell_type": "code",
   "execution_count": null,
   "id": "b9463242-f2aa-4d8e-a5e3-4b2e02f9750f",
   "metadata": {
    "tags": []
   },
   "outputs": [],
   "source": [
    "def parseLine(line):\n",
    "    fields = line.split(',')\n",
    "    stationID = fields[0]\n",
    "    entryType = fields[2]\n",
    "    temperature = float(fields[3]) * 0.1 * (9.0 / 5.0) + 32.0\n",
    "    return (stationID, entryType, temperature)\n",
    "\n",
    "lines = sc.textFile(\"Data/1800.csv\")\n",
    "parsedLines = lines.map(parseLine)\n",
    "\n",
    "minTemps = parsedLines.filter(lambda x: \"TMAX\" in x[1])\n",
    "result  = minTemps.collect()\n",
    "for x in result:\n",
    "    print(x)"
   ]
  },
  {
   "cell_type": "code",
   "execution_count": null,
   "id": "0d7cbec5-f376-46f4-a51a-ef30e3782c90",
   "metadata": {
    "tags": []
   },
   "outputs": [],
   "source": [
    "minTemps.collect()"
   ]
  },
  {
   "cell_type": "code",
   "execution_count": null,
   "id": "71d4169f-8b9d-4038-ab93-e5ac24216250",
   "metadata": {
    "tags": []
   },
   "outputs": [],
   "source": [
    "stationTemps = minTemps.map(lambda x: (x[0], x[2]))\n",
    "test = minTemps.map(lambda y: [y[0],y[1]])\n",
    "test.collect()"
   ]
  },
  {
   "cell_type": "code",
   "execution_count": null,
   "id": "14ad929d-4e5e-44e5-b90a-e0b2faf57107",
   "metadata": {
    "tags": []
   },
   "outputs": [],
   "source": [
    "stationTemps.collect()"
   ]
  },
  {
   "cell_type": "code",
   "execution_count": null,
   "id": "b4e4cfa8-6819-49be-b615-44c7735a0edd",
   "metadata": {
    "tags": []
   },
   "outputs": [],
   "source": [
    "minTemps = stationTemps.reduceByKey(lambda x, y:  max(x,y))\n",
    "results = minTemps.collect()\n",
    "results"
   ]
  },
  {
   "cell_type": "code",
   "execution_count": null,
   "id": "e52a7a51-5eba-4e60-ad05-9a9239fbc86d",
   "metadata": {
    "tags": []
   },
   "outputs": [],
   "source": [
    "for result in results:\n",
    "    print(result[0] + \"\\t{:.2f}F\".format(result[1]))"
   ]
  },
  {
   "cell_type": "code",
   "execution_count": null,
   "id": "04d0d76a-6a6b-4e64-8a5e-377317eb489c",
   "metadata": {
    "tags": []
   },
   "outputs": [],
   "source": [
    "input = sc.textFile(\"Data/book\")\n",
    "words = input.flatMap(lambda x: x.split())\n",
    "wordCounts = words.countByValue()\n",
    "\n",
    "for word, count in wordCounts.items():\n",
    "    cleanWord = word.encode('ascii', 'ignore')\n",
    "    if (cleanWord):\n",
    "        print(cleanWord.decode() + \" \" + str(count))"
   ]
  },
  {
   "cell_type": "code",
   "execution_count": null,
   "id": "2c88df78-f6d4-4f77-9a59-fdd3e406bd9b",
   "metadata": {
    "tags": []
   },
   "outputs": [],
   "source": [
    "import re\n",
    "\n",
    "def NormalizeWord(text):\n",
    "    return re.compile(r'\\W',re.UNICODE).split(text.lower())\n",
    "\n",
    "input = sc.textFile(\"Data/book\")\n",
    "words = input.flatMap(NormalizeWord)\n",
    "# wordCounts = words.countByValue()\n",
    "wordCounts = words.map(lambda x:(x,1)).reduceByKey(lambda x,y: x+y)\n",
    "temp = wordCounts.collect()\n"
   ]
  },
  {
   "cell_type": "code",
   "execution_count": null,
   "id": "118f1632-523d-4566-b242-40589ec64038",
   "metadata": {
    "tags": []
   },
   "outputs": [],
   "source": [
    "wordCountsSorted = temp.map(lambda (key,value):(value,key)).sortByKey()\n",
    "# for word, count in wordCounts.items():\n",
    "#     cleanWord = word.encode('ascii', 'ignore')\n",
    "#     if (cleanWord):\n",
    "#         print(cleanWord.decode() + \" \" + str(count))"
   ]
  },
  {
   "cell_type": "code",
   "execution_count": null,
   "id": "8370e9c1-65fa-4b25-aeb1-a19cd80739cf",
   "metadata": {},
   "outputs": [],
   "source": [
    "def parseLine(line):\n",
    "    fields = line.split(',')\n",
    "    customerId = fields[0]\n",
    "    Amount = fields[1]\n",
    "    return (int(customerId), float(Amount))\n",
    "\n",
    "lines = sc.textFile(\"Data/customer-orders.csv\")\n",
    "parsedLines = lines.map(parseLine)"
   ]
  },
  {
   "cell_type": "code",
   "execution_count": null,
   "id": "48098180-cb04-45e8-a283-4a6a798ac046",
   "metadata": {},
   "outputs": [],
   "source": [
    "totalbycustomer = parsedLines.reduceByKey(lambda x,y : x+y)\n",
    "totalbycustomer.collect()"
   ]
  },
  {
   "cell_type": "code",
   "execution_count": null,
   "id": "8d1473d4-0b06-4bb6-a73b-873e00c52c51",
   "metadata": {},
   "outputs": [],
   "source": []
  }
 ],
 "metadata": {
  "kernelspec": {
   "display_name": "Python 3 (ipykernel)",
   "language": "python",
   "name": "python3"
  },
  "language_info": {
   "codemirror_mode": {
    "name": "ipython",
    "version": 3
   },
   "file_extension": ".py",
   "mimetype": "text/x-python",
   "name": "python",
   "nbconvert_exporter": "python",
   "pygments_lexer": "ipython3",
   "version": "3.11.3"
  }
 },
 "nbformat": 4,
 "nbformat_minor": 5
}
